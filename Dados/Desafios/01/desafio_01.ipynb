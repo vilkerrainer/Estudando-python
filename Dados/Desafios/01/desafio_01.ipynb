{
 "cells": [
  {
   "cell_type": "markdown",
   "id": "4feb4a62",
   "metadata": {},
   "source": [
    "📌 Objetivo: Carregue a base de clientes e:\n",
    "\n",
    "Liste as 5 primeiras linhas\n",
    "\n",
    "Mostre o número total de clientes\n",
    "\n",
    "Calcule média de idade, renda e número de compras"
   ]
  },
  {
   "cell_type": "code",
   "execution_count": 3,
   "id": "9ed018d6",
   "metadata": {},
   "outputs": [],
   "source": [
    "import pandas as pd"
   ]
  },
  {
   "cell_type": "code",
   "execution_count": 29,
   "id": "cb1c4d47",
   "metadata": {},
   "outputs": [
    {
     "data": {
      "text/html": [
       "<div>\n",
       "<style scoped>\n",
       "    .dataframe tbody tr th:only-of-type {\n",
       "        vertical-align: middle;\n",
       "    }\n",
       "\n",
       "    .dataframe tbody tr th {\n",
       "        vertical-align: top;\n",
       "    }\n",
       "\n",
       "    .dataframe thead th {\n",
       "        text-align: right;\n",
       "    }\n",
       "</style>\n",
       "<table border=\"1\" class=\"dataframe\">\n",
       "  <thead>\n",
       "    <tr style=\"text-align: right;\">\n",
       "      <th></th>\n",
       "      <th>id_cliente</th>\n",
       "      <th>nome</th>\n",
       "      <th>idade</th>\n",
       "      <th>renda</th>\n",
       "      <th>compras</th>\n",
       "    </tr>\n",
       "  </thead>\n",
       "  <tbody>\n",
       "    <tr>\n",
       "      <th>0</th>\n",
       "      <td>1</td>\n",
       "      <td>Cliente 1</td>\n",
       "      <td>42</td>\n",
       "      <td>9785</td>\n",
       "      <td>5</td>\n",
       "    </tr>\n",
       "    <tr>\n",
       "      <th>1</th>\n",
       "      <td>2</td>\n",
       "      <td>Cliente 2</td>\n",
       "      <td>28</td>\n",
       "      <td>9427</td>\n",
       "      <td>3</td>\n",
       "    </tr>\n",
       "    <tr>\n",
       "      <th>2</th>\n",
       "      <td>3</td>\n",
       "      <td>Cliente 3</td>\n",
       "      <td>24</td>\n",
       "      <td>8792</td>\n",
       "      <td>13</td>\n",
       "    </tr>\n",
       "    <tr>\n",
       "      <th>3</th>\n",
       "      <td>4</td>\n",
       "      <td>Cliente 4</td>\n",
       "      <td>55</td>\n",
       "      <td>2716</td>\n",
       "      <td>19</td>\n",
       "    </tr>\n",
       "    <tr>\n",
       "      <th>4</th>\n",
       "      <td>5</td>\n",
       "      <td>Cliente 5</td>\n",
       "      <td>52</td>\n",
       "      <td>4478</td>\n",
       "      <td>18</td>\n",
       "    </tr>\n",
       "  </tbody>\n",
       "</table>\n",
       "</div>"
      ],
      "text/plain": [
       "   id_cliente       nome  idade  renda  compras\n",
       "0           1  Cliente 1     42   9785        5\n",
       "1           2  Cliente 2     28   9427        3\n",
       "2           3  Cliente 3     24   8792       13\n",
       "3           4  Cliente 4     55   2716       19\n",
       "4           5  Cliente 5     52   4478       18"
      ]
     },
     "execution_count": 29,
     "metadata": {},
     "output_type": "execute_result"
    }
   ],
   "source": [
    "df = pd.read_csv('desafio_1_clientes.csv')\n",
    "df.head()"
   ]
  },
  {
   "cell_type": "code",
   "execution_count": 30,
   "id": "aa671a7c",
   "metadata": {},
   "outputs": [
    {
     "data": {
      "text/plain": [
       "np.int64(10)"
      ]
     },
     "execution_count": 30,
     "metadata": {},
     "output_type": "execute_result"
    }
   ],
   "source": [
    "df['id_cliente'].count()"
   ]
  },
  {
   "cell_type": "code",
   "execution_count": 28,
   "id": "5027d6aa",
   "metadata": {},
   "outputs": [
    {
     "data": {
      "text/plain": [
       "idade        37.5\n",
       "renda      7341.0\n",
       "compras      10.0\n",
       "dtype: float64"
      ]
     },
     "execution_count": 28,
     "metadata": {},
     "output_type": "execute_result"
    }
   ],
   "source": [
    "df[['idade', 'renda', 'compras']].median()"
   ]
  }
 ],
 "metadata": {
  "kernelspec": {
   "display_name": "Python 3",
   "language": "python",
   "name": "python3"
  },
  "language_info": {
   "codemirror_mode": {
    "name": "ipython",
    "version": 3
   },
   "file_extension": ".py",
   "mimetype": "text/x-python",
   "name": "python",
   "nbconvert_exporter": "python",
   "pygments_lexer": "ipython3",
   "version": "3.13.3"
  }
 },
 "nbformat": 4,
 "nbformat_minor": 5
}
